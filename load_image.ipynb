{
 "cells": [
  {
   "cell_type": "code",
   "execution_count": 3,
   "id": "e3c84216",
   "metadata": {},
   "outputs": [],
   "source": [
    "import numpy as np\n",
    "import cv2"
   ]
  },
  {
   "cell_type": "code",
   "execution_count": 4,
   "id": "360436d5",
   "metadata": {},
   "outputs": [],
   "source": [
    "img = cv2.imread('./images/messi.jpg') #BGR"
   ]
  },
  {
   "cell_type": "code",
   "execution_count": 5,
   "id": "49c06054",
   "metadata": {},
   "outputs": [
    {
     "name": "stdout",
     "output_type": "stream",
     "text": [
      "[[[115 108 129]\n",
      "  [113 106 127]\n",
      "  [109 102 123]\n",
      "  ...\n",
      "  [147 122 112]\n",
      "  [143 121 110]\n",
      "  [148 126 120]]\n",
      "\n",
      " [[115 108 129]\n",
      "  [113 106 127]\n",
      "  [109 102 123]\n",
      "  ...\n",
      "  [146 121 111]\n",
      "  [142 120 109]\n",
      "  [147 125 119]]\n",
      "\n",
      " [[111 107 126]\n",
      "  [110 106 125]\n",
      "  [107 103 122]\n",
      "  ...\n",
      "  [143 121 110]\n",
      "  [141 119 108]\n",
      "  [145 123 117]]\n",
      "\n",
      " ...\n",
      "\n",
      " [[ 76  50  68]\n",
      "  [ 75  49  67]\n",
      "  [ 72  48  66]\n",
      "  ...\n",
      "  [ 67  47  36]\n",
      "  [ 67  47  36]\n",
      "  [ 63  42  34]]\n",
      "\n",
      " [[ 80  54  72]\n",
      "  [ 79  53  71]\n",
      "  [ 77  51  69]\n",
      "  ...\n",
      "  [ 66  46  35]\n",
      "  [ 68  46  35]\n",
      "  [ 62  41  33]]\n",
      "\n",
      " [[ 84  58  76]\n",
      "  [ 82  56  74]\n",
      "  [ 80  54  72]\n",
      "  ...\n",
      "  [ 67  45  34]\n",
      "  [ 68  46  35]\n",
      "  [ 62  41  33]]]\n"
     ]
    }
   ],
   "source": [
    "print(img)"
   ]
  },
  {
   "cell_type": "code",
   "execution_count": 7,
   "id": "34977485",
   "metadata": {},
   "outputs": [
    {
     "name": "stdout",
     "output_type": "stream",
     "text": [
      "blue : 113, green : 106 , red : 127\n"
     ]
    }
   ],
   "source": [
    "(b,g,r) = img[0,1] \n",
    "print(\"blue : {}, green : {} , red : {}\".format(b,g,r))"
   ]
  },
  {
   "cell_type": "code",
   "execution_count": 8,
   "id": "6852220f",
   "metadata": {},
   "outputs": [
    {
     "data": {
      "text/plain": [
       "255"
      ]
     },
     "execution_count": 8,
     "metadata": {},
     "output_type": "execute_result"
    }
   ],
   "source": [
    "img.max()"
   ]
  },
  {
   "cell_type": "code",
   "execution_count": 9,
   "id": "aa682bd3",
   "metadata": {},
   "outputs": [
    {
     "data": {
      "text/plain": [
       "0"
      ]
     },
     "execution_count": 9,
     "metadata": {},
     "output_type": "execute_result"
    }
   ],
   "source": [
    "img.min()"
   ]
  },
  {
   "cell_type": "code",
   "execution_count": 10,
   "id": "b921fc40",
   "metadata": {},
   "outputs": [
    {
     "data": {
      "text/plain": [
       "(262, 193, 3)"
      ]
     },
     "execution_count": 10,
     "metadata": {},
     "output_type": "execute_result"
    }
   ],
   "source": [
    "img.shape"
   ]
  },
  {
   "cell_type": "code",
   "execution_count": 11,
   "id": "6009d69e",
   "metadata": {},
   "outputs": [
    {
     "data": {
      "text/plain": [
       "50566"
      ]
     },
     "execution_count": 11,
     "metadata": {},
     "output_type": "execute_result"
    }
   ],
   "source": [
    "262*193"
   ]
  },
  {
   "cell_type": "code",
   "execution_count": 12,
   "id": "4193611a",
   "metadata": {},
   "outputs": [],
   "source": [
    "cv2.imshow('Messi', img)\n",
    "cv2.waitKey(0)\n",
    "cv2.destroyAllWindows()"
   ]
  }
 ],
 "metadata": {
  "kernelspec": {
   "display_name": "Python 3 (ipykernel)",
   "language": "python",
   "name": "python3"
  },
  "language_info": {
   "codemirror_mode": {
    "name": "ipython",
    "version": 3
   },
   "file_extension": ".py",
   "mimetype": "text/x-python",
   "name": "python",
   "nbconvert_exporter": "python",
   "pygments_lexer": "ipython3",
   "version": "3.8.17"
  }
 },
 "nbformat": 4,
 "nbformat_minor": 5
}
