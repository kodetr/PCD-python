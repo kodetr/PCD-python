{
 "cells": [
  {
   "cell_type": "code",
   "execution_count": 3,
   "id": "9e9e29c1",
   "metadata": {},
   "outputs": [],
   "source": [
    "import cv2\n",
    "import numpy as np\n",
    "\n",
    "# Baca citra\n",
    "image = cv2.imread('./Images/nn.jpg', cv2.IMREAD_COLOR)\n",
    "\n",
    "# Pra-pemrosesan\n",
    "gray = cv2.cvtColor(image, cv2.COLOR_BGR2GRAY)\n",
    "blur = cv2.GaussianBlur(gray, (5, 5), 0)\n",
    "_, thresh = cv2.threshold(blur, 120, 255, cv2.THRESH_BINARY)\n",
    "\n",
    "# Segmentasi dan Pemisahan Objek\n",
    "contours, _ = cv2.findContours(thresh, cv2.RETR_EXTERNAL, cv2.CHAIN_APPROX_SIMPLE)\n",
    "\n",
    "# Tampilkan hasil secara terpisah dengan ukuran buah manggis\n",
    "for i, contour in enumerate(contours):\n",
    "    # Hitung luas kontur\n",
    "    area = cv2.contourArea(contour)\n",
    "\n",
    "    # Tentukan batasan ukuran buah manggis\n",
    "    min_area = 1000  # Sesuaikan dengan ukuran yang diinginkan\n",
    "\n",
    "    if area > min_area:\n",
    "        # Dapatkan kotak pembatas untuk setiap objek\n",
    "        x, y, w, h = cv2.boundingRect(contour)\n",
    "\n",
    "        # Potong dan tampilkan setiap objek\n",
    "        fruit = image[y:y+h, x:x+w]\n",
    "        cv2.imshow(f'Fruit {i + 1}', fruit)\n",
    "        cv2.waitKey(0)\n",
    "        cv2.destroyAllWindows()\n",
    "\n",
    "# Tampilkan citra asli dan hasil\n",
    "cv2.imshow('Original Image', image)\n",
    "cv2.waitKey(0)\n",
    "cv2.destroyAllWindows()\n"
   ]
  }
 ],
 "metadata": {
  "kernelspec": {
   "display_name": "Python 3 (ipykernel)",
   "language": "python",
   "name": "python3"
  },
  "language_info": {
   "codemirror_mode": {
    "name": "ipython",
    "version": 3
   },
   "file_extension": ".py",
   "mimetype": "text/x-python",
   "name": "python",
   "nbconvert_exporter": "python",
   "pygments_lexer": "ipython3",
   "version": "3.8.17"
  }
 },
 "nbformat": 4,
 "nbformat_minor": 5
}
