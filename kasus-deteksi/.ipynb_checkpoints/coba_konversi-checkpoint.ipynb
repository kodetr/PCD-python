{
 "cells": [
  {
   "cell_type": "code",
   "execution_count": null,
   "id": "1e8549ed",
   "metadata": {},
   "outputs": [],
   "source": [
    "import cv2\n",
    "import numpy as np\n",
    "import matplotlib.pyplot as plt\n",
    "\n",
    "def deteksi_kematangan_manggis(image_path):\n",
    "    # Baca gambar menggunakan OpenCV\n",
    "    img = cv2.imread(image_path)\n",
    "    \n",
    "    # Konversi warna dari RGB ke HSV\n",
    "    hsv_img = cv2.cvtColor(img, cv2.COLOR_BGR2HSV)\n",
    "    \n",
    "    # Tentukan batas nilai HSV untuk setiap tingkat kematangan\n",
    "    lower_matang = np.array([30, 40, 40])\n",
    "    upper_matang = np.array([90, 255, 255])\n",
    "    \n",
    "    lower_setengah_matang = np.array([15, 40, 40])\n",
    "    upper_setengah_matang = np.array([30, 255, 255])\n",
    "    \n",
    "    lower_mentah = np.array([0, 40, 40])\n",
    "    upper_mentah = np.array([15, 255, 255])\n",
    "    \n",
    "    # Buat mask untuk setiap tingkat kematangan\n",
    "    mask_matang = cv2.inRange(hsv_img, lower_matang, upper_matang)\n",
    "    mask_setengah_matang = cv2.inRange(hsv_img, lower_setengah_matang, upper_setengah_matang)\n",
    "    mask_mentah = cv2.inRange(hsv_img, lower_mentah, upper_mentah)\n",
    "    \n",
    "    # Tampilkan hasil menggunakan Matplotlib\n",
    "    fig, (ax1, ax2, ax3) = plt.subplots(1, 3, figsize=(15, 5))\n",
    "    \n",
    "    ax1.set_title('Gambar Asli')\n",
    "    ax1.imshow(cv2.cvtColor(img, cv2.COLOR_BGR2RGB))\n",
    "    ax1.axis('off')\n",
    "    \n",
    "    ax2.set_title('Hasil Deteksi Manggis Matang')\n",
    "    ax2.imshow(mask_matang, cmap='gray')\n",
    "    ax2.axis('off')\n",
    "    \n",
    "    ax3.set_title('Hasil Deteksi Manggis Tidak Matang')\n",
    "    ax3.imshow(cv2.bitwise_not(mask_matang), cmap='gray')\n",
    "    ax3.axis('off')\n",
    "    \n",
    "    plt.show()\n",
    "\n",
    "# Ganti 'path/to/gambar.jpg' dengan path gambar manggis yang ingin Anda uji\n",
    "deteksi_kematangan_manggis('./Images/manggis.jpg')\n"
   ]
  }
 ],
 "metadata": {
  "kernelspec": {
   "display_name": "Python 3 (ipykernel)",
   "language": "python",
   "name": "python3"
  },
  "language_info": {
   "codemirror_mode": {
    "name": "ipython",
    "version": 3
   },
   "file_extension": ".py",
   "mimetype": "text/x-python",
   "name": "python",
   "nbconvert_exporter": "python",
   "pygments_lexer": "ipython3",
   "version": "3.10.13"
  }
 },
 "nbformat": 4,
 "nbformat_minor": 5
}
